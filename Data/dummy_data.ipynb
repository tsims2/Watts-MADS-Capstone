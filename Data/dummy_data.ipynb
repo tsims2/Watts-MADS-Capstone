{
 "cells": [
  {
   "cell_type": "markdown",
   "metadata": {},
   "source": [
    "This notebook is used to generate dummy data for academic purposes."
   ]
  },
  {
   "cell_type": "code",
   "execution_count": 15,
   "metadata": {},
   "outputs": [],
   "source": [
    "import os\n",
    "import sys\n",
    "\n",
    "sys.path.insert(0, os.path.dirname(os.getcwd()))\n",
    "from modules import *"
   ]
  },
  {
   "cell_type": "markdown",
   "metadata": {},
   "source": [
    "### Connected Solutions Enrollment Data"
   ]
  },
  {
   "cell_type": "code",
   "execution_count": 16,
   "metadata": {},
   "outputs": [
    {
     "name": "stdout",
     "output_type": "stream",
     "text": [
      "Dummy data has been saved to ../Enrollments/CS/Connected Solutions Enrollment Tracker.xlsx\n"
     ]
    }
   ],
   "source": [
    "def create_dummy_cs_enrollment_tracker():\n",
    "    program_tab_name_mapping = {\n",
    "        \"Cape Light Compact Program - Targeted Dispatch\": \"CLT\",\n",
    "        \"Efficiency Maine-Demand Response Initiative\": \"EMT\",\n",
    "        \"Eversource-Connected Solutions-Daily Dispatch\": \"EVD\",\n",
    "        \"EVERSOURCE-Connected Solutions-Targeted Dispatch\": \"EVT\",\n",
    "        \"Liberty-Connected Solutions-Targeted Dispatch\": \"LBT\",\n",
    "        \"NGRID-Connected Solutions-Daily Dispatch\": \"NGD\",\n",
    "        \"NGRID-Connected Solutions-Targeted Dispatch\": \"NGT\",\n",
    "        \"Rhode Island Connected Solutions-Daily Dispatch\": \"RID\",\n",
    "        \"Rhode Island Connected Solutions-Targeted Dispatch\": \"RIT\",\n",
    "        \"Unitil-Connected Solutions-Daily Dispatch\": \"UND\",\n",
    "        \"UNITIL-Connected Solutions-Targeted Dispatch\": \"UNT\",\n",
    "    }\n",
    "\n",
    "    columns = [\n",
    "        \"ACCPRG\", \"Program\", \"Customer\", \"Customer Asset\", \"Asset ID\", \"Asset Type\",\n",
    "        \"Utility Account Number\", \"Curtailment Strategy\", \"Building Type\", \"Customer Share\",\n",
    "        \"Data Source\", \"Contracted KW\", \"Forecasted KW\", \"Meter Data Tags\",\n",
    "        \"Performance Report Contact\", \"Statement Contact\", \"Third Party\",\n",
    "        \"Third Party UOM\", \"Third Party Share\"\n",
    "    ]\n",
    "\n",
    "    wb = Workbook()\n",
    "    wb.remove(wb.active)\n",
    "\n",
    "    for program_name, tab_name in program_tab_name_mapping.items():\n",
    "        ws = wb.create_sheet(title=tab_name)\n",
    "        \n",
    "        num_rows = np.random.randint(10, 50)\n",
    "        data = {\n",
    "            \"ACCPRG\": [f\"{tab_name}-{i:04d}\" for i in range(num_rows)],\n",
    "            \"Program\": [program_name for _ in range(num_rows)],\n",
    "            \"Customer\": [f\"Customer {i}\" for i in range(num_rows)],\n",
    "            \"Customer Asset\": [f\"Asset {i}\" for i in range(num_rows)],\n",
    "            \"Asset ID\": [f\"ID-{tab_name}-{i:04d}\" for i in range(num_rows)],\n",
    "            \"Asset Type\": np.random.choice([\"HVAC\", \"Lighting\", \"Other\"], num_rows),\n",
    "            \"Utility Account Number\": [f\"{np.random.randint(100000000, 999999999)}\" for _ in range(num_rows)],\n",
    "            \"Curtailment Strategy\": \"Load Curtailment\",\n",
    "            \"Building Type\": np.random.choice([\"Commercial\", \"Industrial\", \"Residential\"], num_rows),\n",
    "            \"Customer Share\": np.random.uniform(0.1, 0.9, num_rows).round(2),\n",
    "            \"Data Source\": \"Internal Database\",\n",
    "            \"Contracted KW\": np.random.uniform(50, 1000, num_rows).round(2),\n",
    "            \"Forecasted KW\": np.random.uniform(40, 1200, num_rows).round(2),\n",
    "            \"Meter Data Tags\": [f\"Tag-{tab_name}-{i}\" for i in range(num_rows)],\n",
    "            \"Performance Report Contact\": [f\"performance{i}@example.com\" for i in range(num_rows)],\n",
    "            \"Statement Contact\": [f\"statement{i}@example.com\" for i in range(num_rows)],\n",
    "            \"Third Party\": np.random.choice([\"Yes\", \"No\"], num_rows),\n",
    "            \"Third Party UOM\": np.random.choice([\"kW\", \"kWh\", \"N/A\"], num_rows),\n",
    "            \"Third Party Share\": np.random.uniform(0.1, 0.5, num_rows).round(2)\n",
    "        }\n",
    "\n",
    "        df = pd.DataFrame(data, columns=columns)\n",
    "\n",
    "        for r in dataframe_to_rows(df, index=False, header=True):\n",
    "            ws.append(r)\n",
    "\n",
    "    file_path = \"../Enrollments/CS/Connected Solutions Enrollment Tracker.xlsx\"\n",
    "    wb.save(file_path)\n",
    "    print(f\"Dummy data has been saved to {file_path}\")\n",
    "\n",
    "create_dummy_cs_enrollment_tracker()"
   ]
  },
  {
   "cell_type": "markdown",
   "metadata": {},
   "source": [
    "### Dispatch Event Data"
   ]
  },
  {
   "cell_type": "code",
   "execution_count": 17,
   "metadata": {},
   "outputs": [
    {
     "name": "stdout",
     "output_type": "stream",
     "text": [
      "Dispatch events have been saved to Dispatch Events.xlsx\n"
     ]
    }
   ],
   "source": [
    "def generate_dispatch_events():\n",
    "    enrollment_file = \"../Enrollments/CS/Connected Solutions Enrollment Tracker.xlsx\"\n",
    "    enrollment_data = pd.read_excel(enrollment_file, sheet_name=None)\n",
    "    all_enrollments = pd.concat(enrollment_data.values(), ignore_index=True)\n",
    "\n",
    "    targeted_dates = ['2024-06-20', '2024-07-09', '2024-07-15', '2024-07-16', '2024-07-17']\n",
    "    daily_dates = ['2024-06-20', '2024-07-01', '2024-07-02', '2024-07-03', '2024-07-05', \n",
    "                   '2024-07-06', '2024-07-07', '2024-07-08', '2024-07-09', '2024-07-10', \n",
    "                   '2024-07-11', '2024-07-12', '2024-07-13', '2024-07-14', '2024-07-15', \n",
    "                   '2024-07-16', '2024-07-17', '2024-07-18', '2024-07-19', '2024-07-21', \n",
    "                   '2024-07-22', '2024-07-23', '2024-07-24', '2024-07-25', '2024-07-26', \n",
    "                   '2024-07-28']\n",
    "\n",
    "    all_events = []\n",
    "\n",
    "    for _, enrollment in all_enrollments.iterrows():\n",
    "        program = enrollment['Program']\n",
    "        is_daily = 'Daily' in program\n",
    "        event_dates = daily_dates if is_daily else targeted_dates\n",
    "\n",
    "        for date in event_dates:\n",
    "            start_time = datetime.strptime(f\"{date} 14:00:00\", \"%Y-%m-%d %H:%M:%S\")\n",
    "            end_time = start_time + timedelta(hours=3)\n",
    "\n",
    "            event = {\n",
    "                'Region': 'ISONE',\n",
    "                'Prgm Owner': program.split('-')[0],\n",
    "                'Event Type': 'Mandatory',\n",
    "                'Notification Type': 'Day Ahead',\n",
    "                'Program': program,\n",
    "                'Start Date & Time (Local)': start_time,\n",
    "                'End Date & Time (Local)': end_time,\n",
    "                'Company': enrollment['Customer'],\n",
    "                'Facility': enrollment['Customer Asset'],\n",
    "                'Accnt #': enrollment['Utility Account Number'],\n",
    "                'Dispatch Target': f\"{program.split('-')[0]} - Zone\",\n",
    "                'CRM #': enrollment['ACCPRG'],\n",
    "                'Event Number': np.random.randint(3000, 4000),\n",
    "                'AE': np.random.choice(['John Doe', 'Jane Smith', 'Bob Johnson']),\n",
    "                'AM': np.random.choice(['Alice Brown', 'Charlie Davis', 'Eva White']),\n",
    "                'AO': np.random.choice(['Frank Miller', 'Grace Lee', 'Henry Wilson'])\n",
    "            }\n",
    "\n",
    "            all_events.append(event)\n",
    "\n",
    "    df_events = pd.DataFrame(all_events)\n",
    "    output_file = \"Dispatch Events.xlsx\"\n",
    "    df_events.to_excel(output_file, index=False)\n",
    "    print(f\"Dispatch events have been saved to {output_file}\")\n",
    "\n",
    "generate_dispatch_events()"
   ]
  },
  {
   "cell_type": "markdown",
   "metadata": {},
   "source": [
    "### Dummy Load Data"
   ]
  },
  {
   "cell_type": "code",
   "execution_count": 18,
   "metadata": {},
   "outputs": [
    {
     "name": "stderr",
     "output_type": "stream",
     "text": [
      "C:\\Users\\Tyler.Sims\\AppData\\Local\\Temp\\ipykernel_26360\\4146973443.py:11: FutureWarning: 'T' is deprecated and will be removed in a future version, please use 'min' instead.\n",
      "  date_range = pd.date_range(start=start_date, end=end_date, freq='15T')\n"
     ]
    },
    {
     "name": "stdout",
     "output_type": "stream",
     "text": [
      "Dummy load data generation complete.\n"
     ]
    }
   ],
   "source": [
    "def generate_dummy_load_data():\n",
    "    enrollment_file = \"../Enrollments/CS/Connected Solutions Enrollment Tracker.xlsx\"\n",
    "    enrollment_data = pd.read_excel(enrollment_file, sheet_name=None)\n",
    "    all_enrollments = pd.concat(enrollment_data.values(), ignore_index=True)\n",
    "\n",
    "    base_dir = \"../Settlements/CS/Summer 2024/Raw Meter Data\"\n",
    "    os.makedirs(base_dir, exist_ok=True)\n",
    "\n",
    "    start_date = datetime(2024, 6, 1)\n",
    "    end_date = datetime(2024, 9, 30)\n",
    "    date_range = pd.date_range(start=start_date, end=end_date, freq='15T')\n",
    "\n",
    "    for _, enrollment in all_enrollments.iterrows():\n",
    "        asset_id = enrollment['Asset ID']\n",
    "        customer = enrollment['Customer']\n",
    "        facility_name = enrollment['Customer Asset']\n",
    "        program = enrollment['Program']\n",
    "        contracted_kw = enrollment['Contracted KW']\n",
    "        utility_account_number = enrollment['Utility Account Number']\n",
    "\n",
    "        base_load = np.random.uniform(contracted_kw * 0.7, contracted_kw * 1.3, len(date_range))\n",
    "        noise = np.random.normal(0, contracted_kw * 0.1, len(date_range))\n",
    "        load_data = base_load + noise\n",
    "\n",
    "        df = pd.DataFrame({\n",
    "            'Time Intervals': date_range,\n",
    "            'Load (kW)': load_data\n",
    "        })\n",
    "\n",
    "        if 'Daily' in program:\n",
    "            event_type = \"Daily Dispatch\"\n",
    "        else:\n",
    "            event_type = \"Targeted Dispatch\"\n",
    "\n",
    "        file_name = f\"{event_type} Summer 2024 {customer} {facility_name} {asset_id} Raw Data.csv\"\n",
    "        file_path = os.path.join(base_dir, file_name)\n",
    "\n",
    "        # Add metadata\n",
    "        metadata = [\n",
    "            f\"Asset ID,{asset_id}\",\n",
    "            f\"Utility Account Number,{utility_account_number}\",\n",
    "            f\"Customer,{customer}\",\n",
    "            f\"Date Range Collected,{start_date.strftime('%Y-%m-%d')} to {end_date.strftime('%Y-%m-%d')}\",\n",
    "            f\"Date Retrieved,{datetime.now().strftime('%Y-%m-%d')}\",\n",
    "            f\"Meter Tags,{enrollment['Meter Data Tags']}\",\n",
    "            \"\"\n",
    "        ]\n",
    "\n",
    "        with open(file_path, 'w') as f:\n",
    "            f.write('\\n'.join(metadata))\n",
    "            df.to_csv(f, index=False)\n",
    "\n",
    "    print(\"Dummy load data generation complete.\")\n",
    "\n",
    "generate_dummy_load_data()"
   ]
  },
  {
   "cell_type": "markdown",
   "metadata": {},
   "source": [
    "#### Dummy Dynamics Data"
   ]
  },
  {
   "cell_type": "code",
   "execution_count": 19,
   "metadata": {},
   "outputs": [
    {
     "name": "stdout",
     "output_type": "stream",
     "text": [
      "Dummy Dynamics data generation complete.\n"
     ]
    }
   ],
   "source": [
    "def generate_dummy_dynamics_data():\n",
    "    # Read the enrollment dummy file\n",
    "    enrollment_file = \"../Enrollments/CS/Connected Solutions Enrollment Tracker.xlsx\"\n",
    "    enrollment_data = pd.read_excel(enrollment_file, sheet_name=None)\n",
    "    all_enrollments = pd.concat(enrollment_data.values(), ignore_index=True)\n",
    "\n",
    "    # Create dummy data for utility and ISO accounts\n",
    "    utility_data = []\n",
    "\n",
    "    for _, enrollment in all_enrollments.iterrows():\n",
    "        # Common data for both utility and ISO\n",
    "        common_data = {\n",
    "            \"Enrollment Status\": np.random.choice([\"Enrolled\", \"Pending Enrollment\", \"Not Enrolled\"], p=[0.8, 0.15, 0.05]),\n",
    "            \"Program\": enrollment['Program'],\n",
    "            \"Name\": enrollment['ACCPRG'],\n",
    "            \"Account\": f\"ACC-{np.random.randint(10000, 99999)}\",\n",
    "            \"Vendor ID (Account) (Account)\": f\"VID-{np.random.randint(1000, 9999)}\",\n",
    "            \"Company\": enrollment['Customer'],\n",
    "            \"Facility Name/Store # (Account) (Account)\": enrollment['Customer Asset'],\n",
    "            \"Address 1 (Company) (Company)\": f\"{np.random.randint(100, 9999)} Main St\",\n",
    "            \"Service Address Line 1 (Account) (Account)\": f\"{np.random.randint(100, 9999)} Energy Ave\",\n",
    "            \"Service Address Line 2 (Account) (Account)\": f\"Suite {np.random.randint(100, 999)}\",\n",
    "            \"Service Address City (Account) (Account)\": np.random.choice([\"Boston\", \"Worcester\", \"Springfield\", \"Cambridge\", \"Lowell\"]),\n",
    "            \"Service Address State (Account) (Account)\": \"MA\",\n",
    "            \"Service Address Zip 1 (Account) (Account)\": f\"{np.random.randint(10000, 99999)}\",\n",
    "            \"Service Address Latitude (Account) (Account)\": np.random.uniform(41.0, 43.0),\n",
    "            \"Service Address Longitude (Account) (Account)\": np.random.uniform(-73.0, -69.0),\n",
    "            \"Earliest Start Date\": (datetime.now() - timedelta(days=np.random.randint(30, 365))).strftime('%Y-%m-%d'),\n",
    "            \"End Date\": (datetime.now() + timedelta(days=np.random.randint(30, 730))).strftime('%Y-%m-%d'),\n",
    "            \"Utility (Account) (Account)\": enrollment['Program'].split('-')[0],\n",
    "            \"Utility Account Number (Account) (Account)\": enrollment['Utility Account Number'],\n",
    "            \"Asset ID\": enrollment['Asset ID'],\n",
    "            \"Secondary ID (Account) (Account)\": f\"SID-{np.random.randint(1000, 9999)}\",\n",
    "            \"Aggregation ID\": f\"AGG-{np.random.randint(100, 999)}\",\n",
    "            \"Resource ID\": f\"RID-{np.random.randint(1000, 9999)}\",\n",
    "            \"Resource Name\": f\"Resource-{enrollment['Customer Asset'][:10]}\"\n",
    "        }\n",
    "\n",
    "        # Add to utility data\n",
    "        utility_data.append(common_data)\n",
    "\n",
    "    # Convert to DataFrames\n",
    "    df_utility = pd.DataFrame(utility_data)\n",
    "\n",
    "    # Save to Excel files\n",
    "    df_utility.to_excel(\"Dynamics Source Data - Utility Accounts.xlsx\", index=False)\n",
    "\n",
    "    print(\"Dummy Dynamics data generation complete.\")\n",
    "\n",
    "# Run the function\n",
    "generate_dummy_dynamics_data()"
   ]
  }
 ],
 "metadata": {
  "kernelspec": {
   "display_name": "Python 3",
   "language": "python",
   "name": "python3"
  },
  "language_info": {
   "codemirror_mode": {
    "name": "ipython",
    "version": 3
   },
   "file_extension": ".py",
   "mimetype": "text/x-python",
   "name": "python",
   "nbconvert_exporter": "python",
   "pygments_lexer": "ipython3",
   "version": "3.12.4"
  }
 },
 "nbformat": 4,
 "nbformat_minor": 2
}
